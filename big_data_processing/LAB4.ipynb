{
 "cells": [
  {
   "cell_type": "code",
   "execution_count": null,
   "metadata": {},
   "outputs": [],
   "source": [
    "#LAB4_1 369게임\n",
    "\n",
    "def game369(num):\n",
    "    s = str(num)\n",
    "    for i in s:\n",
    "        if i == '3' or i == '6' or i == '9':\n",
    "            return '짝'\n",
    "    else:\n",
    "        return num\n",
    "    \n",
    "for i in range(1, 100):\n",
    "    if i % 17 == 0:\n",
    "        print()\n",
    "    print(game369(i), end = ' ')"
   ]
  },
  {
   "cell_type": "code",
   "execution_count": null,
   "metadata": {},
   "outputs": [],
   "source": [
    "#LAB4_2 키워드 인수\n",
    "\n",
    "def printInfo(name, age, city):\n",
    "    print(f'이름: {name}, 나이: {age}, 도시: {city}')\n",
    "\n",
    "printInfo(name = '이여름', age = 25, city = '서울')\n",
    "printInfo(age = 30, name = '오가을', city = '부산')\n",
    "printInfo(city = '제주', name = '김봄', age = 50)"
   ]
  },
  {
   "cell_type": "code",
   "execution_count": null,
   "metadata": {},
   "outputs": [],
   "source": [
    "#LAB4_3 평균(디폴트 인수)\n",
    "\n",
    "def saled_price(price, sale = 0.1):\n",
    "    return price - price * sale\n",
    "\n",
    "price = int(input('정가 입력: '))\n",
    "print(f'할인된 가격: {saled_price(price):,.0f}원')"
   ]
  },
  {
   "cell_type": "code",
   "execution_count": null,
   "metadata": {},
   "outputs": [],
   "source": [
    "#LAB4_4 평균(가변 인수)\n",
    "\n",
    "def calGrade(name, *score):\n",
    "    average = sum(score) / len(score)\n",
    "    if average >= 80:\n",
    "        grade = 'A'\n",
    "    elif average >= 60:\n",
    "        grade = 'B'\n",
    "    elif average >= 50:\n",
    "        grade = 'C'\n",
    "    else:\n",
    "        grade = 'F'\n",
    "        \n",
    "    return name, average, grade\n",
    "\n",
    "print(calGrade('신짱구', 90, 60))\n",
    "print(calGrade('최자두', 90, 87, 80, 60))\n",
    "print(calGrade('홍길도', 90, 60, 90))"
   ]
  },
  {
   "cell_type": "code",
   "execution_count": null,
   "metadata": {},
   "outputs": [],
   "source": [
    "#LAB4_5 람다\n",
    "\n",
    "max_of_three = lambda x, y, z: max(x, y, z)\n",
    "\n",
    "print(max_of_three(10, 20, 30)) \n",
    "print(max_of_three(50, 20, 30)) \n",
    "print(max_of_three(10, 90, 30)) \n",
    "print(max_of_three(10, 20, 20)) \n",
    "print(max_of_three(10, 20, 10))"
   ]
  }
 ],
 "metadata": {
  "kernelspec": {
   "display_name": "Python 3",
   "language": "python",
   "name": "python3"
  },
  "language_info": {
   "codemirror_mode": {
    "name": "ipython",
    "version": 3
   },
   "file_extension": ".py",
   "mimetype": "text/x-python",
   "name": "python",
   "nbconvert_exporter": "python",
   "pygments_lexer": "ipython3",
   "version": "3.11.1"
  }
 },
 "nbformat": 4,
 "nbformat_minor": 2
}
