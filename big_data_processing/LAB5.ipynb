{
 "cells": [
  {
   "cell_type": "code",
   "execution_count": null,
   "metadata": {},
   "outputs": [],
   "source": [
    "#LAB5_1 문자열\n",
    "\n",
    "ss = 'Python'\n",
    "for i in ss:\n",
    "    print(i.upper())"
   ]
  },
  {
   "cell_type": "code",
   "execution_count": null,
   "metadata": {},
   "outputs": [],
   "source": [
    "#LAB5_2 문자열\n",
    "\n",
    "name = input('이미지 이름 입력: ')\n",
    "\n",
    "if name.find('jpg') != -1:\n",
    "    print('jpg 형식의 이미지 파일입니다.')\n",
    "else:\n",
    "    print('jpg 형식의 이미지 파일 아닙니다.')"
   ]
  },
  {
   "cell_type": "code",
   "execution_count": null,
   "metadata": {},
   "outputs": [],
   "source": [
    "#LAB5_3 문자열\n",
    "\n",
    "langs = 'Python/Java/HTML'\n",
    "ll = langs.split('/')\n",
    "\n",
    "for i in ll:\n",
    "    print(f'{i} is fun.')"
   ]
  },
  {
   "cell_type": "code",
   "execution_count": 28,
   "metadata": {},
   "outputs": [
    {
     "name": "stdout",
     "output_type": "stream",
     "text": [
      "[10.0, 9.6, 209, 2.2, 3.0, 117]\n"
     ]
    }
   ],
   "source": [
    "#LAB5_4 리스트\n",
    "\n",
    "num = [100, 96, 209, 22, 30, 117]\n",
    "\n",
    "for i in num:\n",
    "    if i % 2 == 0:\n",
    "       index = num.index(i)\n",
    "       num[index] = round(i * 0.1, 1)\n",
    "\n",
    "print(num)"
   ]
  },
  {
   "cell_type": "code",
   "execution_count": null,
   "metadata": {},
   "outputs": [],
   "source": [
    "#LAB5_5 리스트\n",
    "\n",
    "numlist = []\n",
    "\n",
    "num = int(input('수를 입력하시요(-1이면 입력끝): '))\n",
    "while num != -1:\n",
    "    numlist.append(num)\n",
    "    num = int(input('수를 입력하시요(-1이면 입력끝): '))\n",
    "\n",
    "key = int(input('찾고 싶은 값을 입력하시오: '))\n",
    "\n",
    "if key in numlist:\n",
    "    print(f'찾는 값의 위치: {numlist.index(key)}')\n",
    "else:\n",
    "    print(f'{key} 값은 리스트에 없습니다.')"
   ]
  },
  {
   "cell_type": "code",
   "execution_count": null,
   "metadata": {},
   "outputs": [],
   "source": [
    "#LAB5_6 리스트, remove\n",
    "\n",
    "sentence = 'You said some winds blow forever and I didn\\'t understand'\n",
    "remove_words = ['some', 'forever']\n",
    "\n",
    "print(f'원본 문자열: {sentence}')\n",
    "print(f'삭제 단어들: {remove_words}')\n",
    "print('삭제 후 남은 단어들: ')\n",
    "\n",
    "words = sentence.split()\n",
    "remaining_words = [word for word in words if word not in remove_words]\n",
    "print(f'삭제 후 남은 단어들: {remaining_words}')"
   ]
  }
 ],
 "metadata": {
  "kernelspec": {
   "display_name": "Python 3",
   "language": "python",
   "name": "python3"
  },
  "language_info": {
   "codemirror_mode": {
    "name": "ipython",
    "version": 3
   },
   "file_extension": ".py",
   "mimetype": "text/x-python",
   "name": "python",
   "nbconvert_exporter": "python",
   "pygments_lexer": "ipython3",
   "version": "3.11.1"
  }
 },
 "nbformat": 4,
 "nbformat_minor": 2
}
