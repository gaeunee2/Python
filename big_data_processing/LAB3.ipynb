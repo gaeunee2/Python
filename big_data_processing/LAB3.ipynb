{
 "cells": [
  {
   "cell_type": "code",
   "execution_count": null,
   "metadata": {},
   "outputs": [],
   "source": [
    "#LAB3_1 구구단 계산기\n",
    "\n",
    "num = int(input('구구단 몇 단을 계산할까?\\n'))\n",
    "\n",
    "print(f'구구단 {num}단을 계산한다.')\n",
    "for i in range(1, 10):\n",
    "    print(f'{num} x {i} = {num * i}')"
   ]
  },
  {
   "cell_type": "code",
   "execution_count": 21,
   "metadata": {},
   "outputs": [
    {
     "name": "stdout",
     "output_type": "stream",
     "text": [
      "uoy evol I\n"
     ]
    }
   ],
   "source": [
    "#LAB3_2 문자열 역순 출력\n",
    "\n",
    "sentence = \"I love you\"\n",
    "reverse_sentence = ''\n",
    "\n",
    "for i in sentence:\n",
    "    reverse_sentence = i + reverse_sentence\n",
    "print(reverse_sentence)"
   ]
  },
  {
   "cell_type": "code",
   "execution_count": 22,
   "metadata": {},
   "outputs": [
    {
     "name": "stdout",
     "output_type": "stream",
     "text": [
      "101\n"
     ]
    }
   ],
   "source": [
    "#LAB3_3 십진수를 이진수로 변환\n",
    "\n",
    "num = int(input('숫자 입력: '))\n",
    "binary = ''\n",
    "\n",
    "while num != 0:\n",
    "    binary = str(num % 2) + binary\n",
    "    num //= 2\n",
    "\n",
    "print(binary)"
   ]
  },
  {
   "cell_type": "code",
   "execution_count": null,
   "metadata": {},
   "outputs": [],
   "source": [
    "#LAB3_4 숫자 찾기 게임\n",
    "\n",
    "import random\n",
    "answer = random.randrange(1, 101)\n",
    "\n",
    "num = int(input('숫자를 맞혀 보세요. (1~100)\\n'))\n",
    "while num != answer:\n",
    "    if num < answer:\n",
    "        print('숫자가 너무 작습니다.')\n",
    "    else:\n",
    "        print('숫자가 너무 큽니다.')\n",
    "    num = int(input('숫자를 맞혀 보세요. (1~100)\\n'))\n",
    "else:\n",
    "    print(f'정답입니다. 입력한 숫자는 {answer}입니다.')"
   ]
  },
  {
   "cell_type": "code",
   "execution_count": null,
   "metadata": {},
   "outputs": [],
   "source": [
    "#LAB3_5 연속적인 구구단 계산기\n",
    "\n",
    "num = int(input('구구단 몇 단을 계산할까요(1~9)?\\n'))\n",
    "\n",
    "while num != 0:\n",
    "    print(f'구구단 {num}단을 계산합니다.')\n",
    "    for i in range(1, 10):\n",
    "        print(f'{num} x {i} = {num * i}')\n",
    "    num = int(input('구구단 몇 단을 계산할까요(1~9)?\\n'))\n",
    "print('구구단 게임을 종료합니다.')"
   ]
  },
  {
   "cell_type": "code",
   "execution_count": null,
   "metadata": {},
   "outputs": [],
   "source": [
    "#LAB3_6 평균 구하기\n",
    "\n",
    "score = [][]"
   ]
  }
 ],
 "metadata": {
  "kernelspec": {
   "display_name": "Python 3",
   "language": "python",
   "name": "python3"
  },
  "language_info": {
   "codemirror_mode": {
    "name": "ipython",
    "version": 3
   },
   "file_extension": ".py",
   "mimetype": "text/x-python",
   "name": "python",
   "nbconvert_exporter": "python",
   "pygments_lexer": "ipython3",
   "version": "3.11.1"
  }
 },
 "nbformat": 4,
 "nbformat_minor": 2
}
