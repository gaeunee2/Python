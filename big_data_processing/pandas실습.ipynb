{
 "cells": [
  {
   "cell_type": "code",
   "execution_count": null,
   "metadata": {},
   "outputs": [],
   "source": [
    "#Pandas 실습\n",
    "\n",
    "import pandas as pd\n",
    "\n",
    "info = {'이름': ['김봄', '오여름', '나가을', '이겨울'], \n",
    "        '나이': [19, 22, 20, 26], '성별': ['남', '여', '남', '여']}\n",
    "df = pd.DataFrame(info)\n",
    "df['평점'] = [3.45, 4.1, 3.9, 4.5]\n",
    "df.insert(1, '학번', ['A001', 'A002', 'B001', 'C001'])\n",
    "\n",
    "new_row = pd.DataFrame({\"이름\":[\"훈이\", \"최자두\"], \"나이\": [5, 12], \"성별\": [\"남자\", \"여자\"], \n",
    "\"평점\":[3.1, 3.6]})\n",
    "\n",
    "df_sorted = df.sort_index(ascending=False)\n",
    "\n",
    "print(df)\n",
    "print(df_sorted)\n",
    "print(df.describe())"
   ]
  }
 ],
 "metadata": {
  "kernelspec": {
   "display_name": "Python 3",
   "language": "python",
   "name": "python3"
  },
  "language_info": {
   "codemirror_mode": {
    "name": "ipython",
    "version": 3
   },
   "file_extension": ".py",
   "mimetype": "text/x-python",
   "name": "python",
   "nbconvert_exporter": "python",
   "pygments_lexer": "ipython3",
   "version": "3.11.1"
  }
 },
 "nbformat": 4,
 "nbformat_minor": 2
}
