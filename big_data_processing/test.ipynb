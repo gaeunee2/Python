{
 "cells": [
  {
   "cell_type": "code",
   "execution_count": null,
   "metadata": {},
   "outputs": [],
   "source": [
    "#9_1 파일 읽기\n",
    "\n",
    "with open(\"dream.txt\", \"r\") as f:\n",
    "    content = f.read()\n",
    "    total_characters = len(content)\n",
    "\n",
    "    words = content.split()\n",
    "    total_words = len(words)\n",
    "\n",
    "    total_lines = len(content.split('\\n'))\n",
    "\n",
    "    print(f\"총 글자의 수: {total_characters}\")\n",
    "    print(f\"총 단어의 수: {total_words}\")\n",
    "    print(f\"총 줄의 수: {total_lines}\")"
   ]
  },
  {
   "cell_type": "code",
   "execution_count": null,
   "metadata": {},
   "outputs": [],
   "source": [
    "#9_2 파일 쓰기\n",
    "\n",
    "num = [1, 2, 3, 4, 5]\n",
    "\n",
    "with open(\"info\", \"w\") as f:\n",
    "    sum = 0\n",
    "    for i in range(len(num)):\n",
    "        sum += int(num[i])\n",
    "    f.write(str(sum) + '\\n')\n",
    "    f.write(str(sum / len(num)))"
   ]
  },
  {
   "cell_type": "code",
   "execution_count": null,
   "metadata": {},
   "outputs": [],
   "source": [
    "#9_3 로그 파일 만들기\n",
    "\n",
    "import os\n",
    "\n",
    "if not os.path.isdir(\"log\"):\n",
    "    os.mkdir(\"log\")\n",
    "if not os.path.exists(\"log/count_log.txt\"):\n",
    "    f = open(\"log/count_log.txt\", 'w', encoding = \"utf8\")\n",
    "    f.write(\"기록이 시작된다.\\n\")\n",
    "    f.close()\n",
    "with open(\"log/count_log.txt\", 'a', encoding = \"utf8\") as f:\n",
    "    import random, datetime\n",
    "    for i in range(1, 11):\n",
    "        stamp = str(datetime.datetime.now())\n",
    "        value = random.random() * 1000000\n",
    "        log_line = stamp + \"\\t\" + str(value) + \"값이 생성되었다.\" + \"\\n\"\n",
    "        f.write(log_line)"
   ]
  },
  {
   "cell_type": "code",
   "execution_count": null,
   "metadata": {},
   "outputs": [],
   "source": [
    "#10_1 클래스 구현\n",
    "\n",
    "class SoccerPlayer(object):\n",
    "    def __init__(self, name, position, back_number):\n",
    "        self.name = name\n",
    "        self.position = position\n",
    "        self.back_number = back_number\n",
    "\n",
    "    def change_back_number(self, new_number):\n",
    "        print(\"선수 등번호 변경: From %d to %d\" %(self.back_number, new_number))\n",
    "        self.back_number = new_number\n",
    "        print(\"현재 선수의 등번호는: %d\" %(self.back_number))\n",
    "\n",
    "player = SoccerPlayer(name=\"홍길동\", position=\"forward\", back_number=9)\n",
    "\n",
    "new_number = int(input('새로운 선수의 등번호는: '))\n",
    "player.change_back_number(new_number)"
   ]
  },
  {
   "cell_type": "code",
   "execution_count": null,
   "metadata": {},
   "outputs": [],
   "source": [
    "import matplotlib.pyplot as plt\n",
    "\n",
    "x = ['Mon', 'Tue', 'Wed', 'Thur', 'Fri', 'Sat', 'Sun']\n",
    "y = [29, 32, 32, 33, 31, 28, 27]\n",
    "\n",
    "plt.title('temperature per week')\n",
    "plt.barh(x, y, color = 'pink')\n",
    "plt.xlabel('week', fontsize = 10)\n",
    "plt.ylabel('temperature')\n",
    "plt.show()"
   ]
  },
  {
   "cell_type": "code",
   "execution_count": null,
   "metadata": {},
   "outputs": [],
   "source": [
    "import numpy as np\n",
    "\n",
    "arr1 = np.array([1, 2, 3])\n",
    "\n",
    "print(arr1)\n",
    "print(arr1.ndim) #배열 열수(차원)\n",
    "print(arr1.shape) #베열 크기\n",
    "print(arr1[0])\n",
    "print(arr1.size) #배열 원소 수\n",
    "print(type(arr1))\n",
    "\n",
    "arr1 = np.array([1, 2, 3], ndmin = 2) #2차원 지정\n",
    "print(arr1)\n",
    "\n",
    "list1 = [[10, 20, 30], [40, 50, 60]]\n",
    "arr2 = np.array(list1)\n",
    "print(arr2)\n",
    "print(arr2.ndim)\n",
    "print(arr2.shape)\n",
    "print(arr2[0, 0])"
   ]
  },
  {
   "cell_type": "code",
   "execution_count": null,
   "metadata": {},
   "outputs": [],
   "source": [
    "import numpy as np\n",
    "\n",
    "arr1 = np.zeros((2,3)) #모든 원소 0으로\n",
    "print(arr1)\n",
    "\n",
    "arr2 = np.ones((3,4)) #모든 원소 1로\n",
    "print(arr2)\n",
    "\n",
    "arr3 = np.eye(3, 3) #대각선 원소 1로, 나머지 0으로\n",
    "print(arr3)\n",
    "\n",
    "arr4 = np.full((4,3), 5) #특정 값으로 모든 원소 지정\n",
    "print(arr4)\n",
    "\n",
    "arr5 = np.random.randint(1, 10, (3, 4)) #1부터 10까지 난수로 3행 4열 구성\n",
    "print(arr5)\n",
    "\n",
    "arr6 = np.linspace(0, 100, num=5, endpoint=True) #간격에 따라서\n",
    "print(arr6)"
   ]
  },
  {
   "cell_type": "code",
   "execution_count": 17,
   "metadata": {},
   "outputs": [
    {
     "name": "stdout",
     "output_type": "stream",
     "text": [
      "[ 1  2  3  4  5 10]\n",
      "[[1 2 3]\n",
      " [4 5 6]\n",
      " [7 8 9]]\n"
     ]
    }
   ],
   "source": [
    "import numpy as np\n",
    "\n",
    "arr1 = np.array([1, 2, 3, 4, 5])\n",
    "arr2 = np.append(arr1, 10)\n",
    "print(arr2)\n",
    "\n",
    "arr1 = np.array([[1, 2, 3], [4, 5, 6]])\n",
    "arr2 = np.array([[7, 8, 9]])\n",
    "arr3 = np.append(arr1, arr2, axis = 0)  # 행을 기준으로 2차원배열에 추가\n",
    "print(arr3)"
   ]
  }
 ],
 "metadata": {
  "kernelspec": {
   "display_name": "Python 3",
   "language": "python",
   "name": "python3"
  },
  "language_info": {
   "codemirror_mode": {
    "name": "ipython",
    "version": 3
   },
   "file_extension": ".py",
   "mimetype": "text/x-python",
   "name": "python",
   "nbconvert_exporter": "python",
   "pygments_lexer": "ipython3",
   "version": "3.11.1"
  }
 },
 "nbformat": 4,
 "nbformat_minor": 2
}
