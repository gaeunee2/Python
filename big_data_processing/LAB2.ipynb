{
 "cells": [
  {
   "cell_type": "code",
   "execution_count": 1,
   "metadata": {},
   "outputs": [
    {
     "name": "stdout",
     "output_type": "stream",
     "text": [
      "1주일은 168시간이다.\n"
     ]
    }
   ],
   "source": [
    "#LAB2_1 시간 계산\n",
    "\n",
    "week = 7\n",
    "hour = 24\n",
    "\n",
    "print(f'1주일은 {week * hour}시간이다.')"
   ]
  },
  {
   "cell_type": "code",
   "execution_count": 1,
   "metadata": {},
   "outputs": [
    {
     "name": "stdout",
     "output_type": "stream",
     "text": [
      "area is  153.86\n",
      "circumference is  43.96\n"
     ]
    }
   ],
   "source": [
    "#LAB2_2 원의 면적과 둘레 구하기\n",
    "\n",
    "radius = float(input('Enter the radius: '))\n",
    "pi = float(input('Enter the PI: '))\n",
    "\n",
    "area = radius ** 2 * pi\n",
    "circumference = 2 * radius * pi\n",
    "\n",
    "print(f'area is {area: .2f}')\n",
    "print(f'circumference is {circumference: .2f}')"
   ]
  },
  {
   "cell_type": "code",
   "execution_count": 2,
   "metadata": {},
   "outputs": [
    {
     "name": "stdout",
     "output_type": "stream",
     "text": [
      "가은이은 10대이다\n"
     ]
    }
   ],
   "source": [
    "#LAB2_3 세대 구분하기\n",
    "\n",
    "name = input('Enter the name: ')\n",
    "age = float(input(f'Enter the {name}\\'s age: '))\n",
    "\n",
    "group = int(age // 10)\n",
    "\n",
    "if group < 5:\n",
    "    print(f'{name}은 {group * 10}대이다')\n",
    "else:\n",
    "    print(f'{name}은 50대 이상이다')"
   ]
  },
  {
   "cell_type": "code",
   "execution_count": 1,
   "metadata": {},
   "outputs": [
    {
     "name": "stdout",
     "output_type": "stream",
     "text": [
      "C_market이 1m당  12.11으로 최저가이다\n"
     ]
    }
   ],
   "source": [
    "#LAB2_4 어디에서 살까?\n",
    "\n",
    "a = 13550 / (33 * 30)\n",
    "b = 15960 / (35 * 24)\n",
    "c = 11990 / (30 * 33)\n",
    "\n",
    "arr = list[a, b, c]\n",
    "\n",
    "if min(arr) == a:\n",
    "    print(f'A_market이 1m당 {a: .2f}으로 최저가이다')\n",
    "elif min(arr) == b:\n",
    "    print(f'B_market이 1m당 {b: .2f}로 최저가이다')\n",
    "else:\n",
    "    print(f'C_market이 1m당 {c: .2f}으로 최저가이다')"
   ]
  }
 ],
 "metadata": {
  "kernelspec": {
   "display_name": "Python 3",
   "language": "python",
   "name": "python3"
  },
  "language_info": {
   "codemirror_mode": {
    "name": "ipython",
    "version": 3
   },
   "file_extension": ".py",
   "mimetype": "text/x-python",
   "name": "python",
   "nbconvert_exporter": "python",
   "pygments_lexer": "ipython3",
   "version": "3.11.1"
  }
 },
 "nbformat": 4,
 "nbformat_minor": 2
}
