{
 "cells": [
  {
   "cell_type": "code",
   "execution_count": null,
   "metadata": {},
   "outputs": [],
   "source": [
    "#LAB6_1 딕셔너리\n",
    "\n",
    "import random\n",
    "rps_dic = {1: '가위', 2: '바위', 3: '보'}\n",
    "match_table = {'가위': '보', '바위': '가위', '보': '바위'}\n",
    "\n",
    "user = input('가위, 바위, 보 입력: ')\n",
    "com = rps_dic[random.randrange(1, 4)]\n",
    "\n",
    "print(f'컴퓨터: {com}')\n",
    "\n",
    "if com == user:\n",
    "    print('비겼습니다.')\n",
    "elif com == match_table[user]:\n",
    "    print('사람 승!')\n",
    "else:\n",
    "    print('컴퓨터 승!')"
   ]
  },
  {
   "cell_type": "code",
   "execution_count": null,
   "metadata": {},
   "outputs": [],
   "source": [
    "#LAB6_2 딕셔너리\n",
    "\n",
    "items = {'커피': 7, '펜': 3, '종이컵': 2, '우유': 1, '콜라': 4, '책': 5}\n",
    "\n",
    "print(\"-- 재고관리 ---\")\n",
    "print(\"1. 모든 상품 재고수량 확인\")\n",
    "print(\"2. 특정 상품 재고수량 확인\")\n",
    "print(\"3. 상품 판매\")\n",
    "print(\"4. 상품 입고\")\n",
    "print(\"5. 종료\")\n",
    "print()\n",
    "\n",
    "print('--------------------')\n",
    "menu = int(input('메뉴 입력: '))\n",
    "while menu != 5:\n",
    "    if menu == 1:\n",
    "        for item, count in items.items():\n",
    "            print(f'{item}:\\t{count}개')\n",
    "    elif menu == 2:\n",
    "        name = input('상품명 입력: ')\n",
    "        print(f'재고수량: {items[name]}')\n",
    "    elif menu == 3:\n",
    "        sale_name = input('판매 상품명 입력: ')\n",
    "        sale_count = int(input('판매 수량 입력: '))\n",
    "\n",
    "        if items[sale_name] >= sale_count:\n",
    "            items[sale_name] -= sale_count\n",
    "        else:\n",
    "            print('상품이 부족합니다')\n",
    "    else:\n",
    "        store_name = input('입고 상품명 입력: ')\n",
    "        store_count = int(input('입고 수량 입력: '))\n",
    "\n",
    "        if store_name in items:\n",
    "            items[store_name] += store_count\n",
    "        else:\n",
    "            items[store_name] = store_count\n",
    "    print('--------------------')\n",
    "    menu = int(input('메뉴 입력: '))"
   ]
  },
  {
   "cell_type": "code",
   "execution_count": null,
   "metadata": {},
   "outputs": [],
   "source": [
    "#LAB6_3 딕셔너리\n",
    "\n",
    "s = input('문자열을 입력하시오: ')\n",
    "d = dict()\n",
    "\n",
    "for i in range(len(s)):\n",
    "    if s[i] in d:\n",
    "        d[s[i]] += 1\n",
    "    else:\n",
    "        d[s[i]] = 1\n",
    "print(d)"
   ]
  }
 ],
 "metadata": {
  "kernelspec": {
   "display_name": "Python 3",
   "language": "python",
   "name": "python3"
  },
  "language_info": {
   "codemirror_mode": {
    "name": "ipython",
    "version": 3
   },
   "file_extension": ".py",
   "mimetype": "text/x-python",
   "name": "python",
   "nbconvert_exporter": "python",
   "pygments_lexer": "ipython3",
   "version": "3.11.1"
  }
 },
 "nbformat": 4,
 "nbformat_minor": 2
}
